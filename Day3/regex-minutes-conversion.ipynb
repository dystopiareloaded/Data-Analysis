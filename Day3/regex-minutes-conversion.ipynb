{
 "cells": [
  {
   "cell_type": "code",
   "execution_count": 1,
   "metadata": {},
   "outputs": [],
   "source": [
    "import pandas as pd\n",
    "\n",
    "import re \n",
    "\n",
    "# Function to convert to total minutes\n",
    "def convert_to_minutes(duration):\n",
    "    hours_match = re.search(r'(\\d+)\\s*hrs?', duration)  # Match hours\n",
    "    mins_match = re.search(r'(\\d+)\\s*mins?', duration)  # Match minutes\n",
    "\n",
    "    hours = int(hours_match.group(1)) if hours_match else 0\n",
    "    minutes = int(mins_match.group(1)) if mins_match else 0\n",
    "\n",
    "    return hours * 60 + minutes  # Convert hours to minutes and add\n",
    "\n",
    "\n"
   ]
  },
  {
   "cell_type": "code",
   "execution_count": null,
   "metadata": {},
   "outputs": [],
   "source": [
    "# Apply function to column ('E.g.')\n",
    "\n",
    "audible_df[\"time\"] = audible_df[\"time\"].apply(convert_to_minutes)"
   ]
  },
  {
   "cell_type": "code",
   "execution_count": null,
   "metadata": {},
   "outputs": [],
   "source": []
  }
 ],
 "metadata": {
  "kernelspec": {
   "display_name": "base",
   "language": "python",
   "name": "python3"
  },
  "language_info": {
   "codemirror_mode": {
    "name": "ipython",
    "version": 3
   },
   "file_extension": ".py",
   "mimetype": "text/x-python",
   "name": "python",
   "nbconvert_exporter": "python",
   "pygments_lexer": "ipython3",
   "version": "3.12.7"
  }
 },
 "nbformat": 4,
 "nbformat_minor": 2
}
