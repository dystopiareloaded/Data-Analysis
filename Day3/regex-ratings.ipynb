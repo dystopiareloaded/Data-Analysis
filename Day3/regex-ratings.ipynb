{
 "cells": [
  {
   "cell_type": "code",
   "execution_count": null,
   "metadata": {},
   "outputs": [],
   "source": [
    "import re\n",
    "\n",
    "import pandas as pd\n",
    "\n",
    "# Define a function to extract ratings\n",
    "def extract_ratings(stars):\n",
    "    if \"Not rated yet\" in stars:\n",
    "        return 0, 0  # Default values for not rated\n",
    "\n",
    "    # Extract avg stars and total ratings using regex\n",
    "    avg_stars_match = re.search(r'(\\d+\\.?\\d*) out of 5 stars', stars)\n",
    "    total_ratings_match = re.search(r'(\\d+) ratings', stars)\n",
    "\n",
    "    avg_stars = float(avg_stars_match.group(1)) if avg_stars_match else 0\n",
    "    total_ratings = int(total_ratings_match.group(1)) if total_ratings_match else 0\n",
    "\n",
    "    return avg_stars, total_ratings\n",
    "\n",
    "# Apply function to entire column\n",
    "audible_df[[\"avg_stars\", \"total_ratings\"]] = audible_df[\"stars\"].apply(lambda x: pd.Series(extract_ratings(x)))\n",
    "\n",
    "# Print result\n",
    "print(audible_df)"
   ]
  }
 ],
 "metadata": {
  "kernelspec": {
   "display_name": "base",
   "language": "python",
   "name": "python3"
  },
  "language_info": {
   "name": "python",
   "version": "3.12.7"
  }
 },
 "nbformat": 4,
 "nbformat_minor": 2
}
