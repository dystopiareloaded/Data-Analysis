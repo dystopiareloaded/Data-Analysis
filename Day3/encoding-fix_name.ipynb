{
 "cells": [
  {
   "cell_type": "code",
   "execution_count": null,
   "metadata": {},
   "outputs": [],
   "source": [
    "import re\n",
    "import pandas as pd\n",
    "\n",
    "import ftfy  # Fixes encoding issues\n",
    "\n",
    "def clean_book_name(text):\n",
    "    if pd.isna(text) or text.strip() == \"\":\n",
    "        return \"Unknown\"\n",
    "\n",
    "    # Fix encoding issues\n",
    "    text = ftfy.fix_text(text)\n",
    "\n",
    "    # Remove versioning details (e.g., #11 & #12, Book 6, Books 9-16)\n",
    "    text = re.sub(r'(\\s*#\\d+(&\\s*#\\d+)*|\\s*Book\\s*\\d+|\\s*Books\\s*\\d+-\\d+)', '', text)\n",
    "\n",
    "    # Remove trailing '&' and ','\n",
    "    text = re.sub(r'[\\s&,]+$', '', text)\n",
    "\n",
    "    return text.strip()\n"
   ]
  },
  {
   "cell_type": "code",
   "execution_count": null,
   "metadata": {},
   "outputs": [],
   "source": [
    "# Apply function to 'name' column\n",
    "audible_df[\"name\"] = audible_df[\"name\"].apply(clean_book_name)"
   ]
  }
 ],
 "metadata": {
  "kernelspec": {
   "display_name": "base",
   "language": "python",
   "name": "python3"
  },
  "language_info": {
   "name": "python",
   "version": "3.12.7"
  }
 },
 "nbformat": 4,
 "nbformat_minor": 2
}
